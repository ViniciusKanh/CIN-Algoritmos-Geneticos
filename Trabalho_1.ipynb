{
  "nbformat": 4,
  "nbformat_minor": 0,
  "metadata": {
    "colab": {
      "provenance": [],
      "authorship_tag": "ABX9TyPIuUg8cy5P9l3eMAcztpC8",
      "include_colab_link": true
    },
    "kernelspec": {
      "name": "python3",
      "display_name": "Python 3"
    },
    "language_info": {
      "name": "python"
    }
  },
  "cells": [
    {
      "cell_type": "markdown",
      "metadata": {
        "id": "view-in-github",
        "colab_type": "text"
      },
      "source": [
        "<a href=\"https://colab.research.google.com/github/ViniciusKanh/CIN-Algoritmos-Geneticos/blob/main/Trabalho_1.ipynb\" target=\"_parent\"><img src=\"https://colab.research.google.com/assets/colab-badge.svg\" alt=\"Open In Colab\"/></a>"
      ]
    },
    {
      "cell_type": "markdown",
      "source": [
        "# Reconhecimento de Padrões"
      ],
      "metadata": {
        "id": "S48AbY2iwNIt"
      }
    },
    {
      "cell_type": "markdown",
      "source": [
        "## 🧬 Etapa 1: Inicialização da População e Cálculo da Aptidão\n",
        "\n",
        "Foi feita a definição do vetor alvo representando o padrão do número 0, como apresentado no enunciado do exercício. Em seguida, foi gerada uma população inicial aleatória com 8 indivíduos, cada um representado por uma string binária de 12 bits.\n",
        "\n",
        "Foi implementada uma função de aptidão que calcula a distância de Hamming entre cada indivíduo e o alvo. A aptidão é dada por: `aptidão = 12 - distância de Hamming`. Ou seja, quanto mais próximo do alvo, maior a aptidão.\n",
        "\n",
        "🔢 Cada linha representa um indivíduo da população com sua respectiva aptidão.\n",
        "\n"
      ],
      "metadata": {
        "id": "O24MTR2ByOPL"
      }
    },
    {
      "cell_type": "code",
      "execution_count": null,
      "metadata": {
        "colab": {
          "base_uri": "https://localhost:8080/"
        },
        "id": "P3xLunxMxbiX",
        "outputId": "94ea3d14-6f2f-4ac0-8391-d35b4f3c6b8b"
      },
      "outputs": [
        {
          "output_type": "stream",
          "name": "stdout",
          "text": [
            "Indivíduo 1: [1 0 0 0 1 1 0 0 0 1 0 1] | Aptidão: 6\n",
            "Indivíduo 2: [0 1 0 1 0 0 1 1 1 0 0 1] | Aptidão: 5\n",
            "Indivíduo 3: [1 1 0 1 1 0 0 1 0 0 1 0] | Aptidão: 7\n",
            "Indivíduo 4: [0 1 1 1 0 1 0 1 1 0 0 1] | Aptidão: 4\n",
            "Indivíduo 5: [0 1 1 0 1 1 1 1 0 1 0 1] | Aptidão: 9\n",
            "Indivíduo 6: [1 0 0 1 0 1 0 0 0 1 0 1] | Aptidão: 4\n",
            "Indivíduo 7: [0 1 0 1 0 1 0 0 1 1 0 1] | Aptidão: 3\n",
            "Indivíduo 8: [0 0 0 0 0 0 1 0 0 0 1 0] | Aptidão: 5\n"
          ]
        }
      ],
      "source": [
        "import numpy as np\n",
        "\n",
        "# 🎯 Alvo a ser reconhecido (número 0)\n",
        "alvo = np.array([1, 1, 1, 0, 1, 0, 1, 1, 0, 1, 1, 1])\n",
        "tamanho_individuo = len(alvo)\n",
        "tamanho_populacao = 8  # mesmo valor usado na aula\n",
        "\n",
        "# 🔄 Geração da população inicial com bits aleatórios\n",
        "def gerar_populacao(tam_pop, tam_ind):\n",
        "    return np.random.randint(2, size=(tam_pop, tam_ind))\n",
        "\n",
        "# 🧠 Cálculo da aptidão com base na distância de Hamming\n",
        "def calcular_aptidao(populacao, alvo):\n",
        "    dist_hamming = np.sum(np.abs(populacao - alvo), axis=1)\n",
        "    return tamanho_individuo - dist_hamming\n",
        "\n",
        "# 🎲 Gerar população e calcular aptidão\n",
        "populacao = gerar_populacao(tamanho_populacao, tamanho_individuo)\n",
        "aptidoes = calcular_aptidao(populacao, alvo)\n",
        "\n",
        "# 📋 Exibir resultados\n",
        "for i in range(tamanho_populacao):\n",
        "    print(f\"Indivíduo {i+1}: {populacao[i]} | Aptidão: {aptidoes[i]}\")\n"
      ]
    },
    {
      "cell_type": "markdown",
      "source": [
        "## 🔁 Etapa 2: Seleção, Crossover e Mutação\n",
        "\n",
        "Foi implementada a fase de reprodução do algoritmo genético com os seguintes componentes principais:\n",
        "\n",
        "- A seleção foi realizada por meio do método da roleta, onde indivíduos com maior aptidão têm maior chance de serem escolhidos como pais.\n",
        "- O operador de crossover foi aplicado com um ponto de corte aleatório, gerando dois filhos a partir de dois pais selecionados.\n",
        "- O operador de mutação foi utilizado de forma bit a bit, com taxa configurável, invertendo os bits com base em uma probabilidade definida.\n",
        "- Um laço de gerações foi executado até que um indivíduo com aptidão máxima (12) fosse encontrado, ou até atingir um número máximo de gerações.\n",
        "\n",
        "Com isso, foi possível simular a evolução da população até encontrar a solução ideal, representada por um indivíduo idêntico ao vetor alvo.\n"
      ],
      "metadata": {
        "id": "fNoi8mUGzcSa"
      }
    },
    {
      "cell_type": "code",
      "source": [
        "import random\n",
        "\n",
        "# 🎯 Alvo a ser reconhecido (número 0)\n",
        "alvo = np.array([1, 1, 1, 0, 1, 0, 1, 1, 0, 1, 1, 1])\n",
        "tam_ind = len(alvo)\n",
        "tam_pop = 8\n",
        "tx_mutacao = 0.02  # taxa de mutação (pode testar outras)\n",
        "\n",
        "# 📌 Funções reutilizadas\n",
        "def gerar_populacao(tam_pop, tam_ind):\n",
        "    return np.random.randint(2, size=(tam_pop, tam_ind))\n",
        "\n",
        "def calcular_aptidao(populacao, alvo):\n",
        "    return tam_ind - np.sum(np.abs(populacao - alvo), axis=1)\n",
        "\n",
        "# 🎯 Função de roleta para selecionar um indivíduo proporcional à aptidão\n",
        "def selecao_roleta(populacao, aptidoes):\n",
        "    soma_apt = np.sum(aptidoes)\n",
        "    if soma_apt == 0:\n",
        "        return populacao[random.randint(0, len(populacao)-1)]\n",
        "    probs = aptidoes / soma_apt\n",
        "    return populacao[np.random.choice(len(populacao), p=probs)]\n",
        "\n",
        "# 🔀 Crossover de 1 ponto\n",
        "def crossover(pai1, pai2):\n",
        "    ponto = random.randint(1, tam_ind - 1)\n",
        "    filho1 = np.concatenate((pai1[:ponto], pai2[ponto:]))\n",
        "    filho2 = np.concatenate((pai2[:ponto], pai1[ponto:]))\n",
        "    return filho1, filho2\n",
        "\n",
        "# 🎲 Mutação bit a bit\n",
        "def mutar(individuo, taxa_mutacao):\n",
        "    return np.array([bit if random.random() > taxa_mutacao else 1 - bit for bit in individuo])\n",
        "\n",
        "# 🧪 Algoritmo Genético principal\n",
        "def algoritmo_genetico(alvo, tam_pop=8, tx_mutacao=0.02, max_geracoes=1000):\n",
        "    geracao = 0\n",
        "    populacao = gerar_populacao(tam_pop, len(alvo))\n",
        "    aptidoes = calcular_aptidao(populacao, alvo)\n",
        "\n",
        "    while np.max(aptidoes) < len(alvo) and geracao < max_geracoes:\n",
        "        nova_pop = []\n",
        "\n",
        "        while len(nova_pop) < tam_pop:\n",
        "            pai1 = selecao_roleta(populacao, aptidoes)\n",
        "            pai2 = selecao_roleta(populacao, aptidoes)\n",
        "\n",
        "            filho1, filho2 = crossover(pai1, pai2)\n",
        "\n",
        "            filho1 = mutar(filho1, tx_mutacao)\n",
        "            filho2 = mutar(filho2, tx_mutacao)\n",
        "\n",
        "            nova_pop.append(filho1)\n",
        "            nova_pop.append(filho2)\n",
        "\n",
        "        populacao = np.array(nova_pop[:tam_pop])\n",
        "        aptidoes = calcular_aptidao(populacao, alvo)\n",
        "        geracao += 1\n",
        "\n",
        "    return geracao, populacao, aptidoes\n",
        "\n",
        "# ▶️ Rodar experimento\n",
        "geracoes, pop_final, apt_final = algoritmo_genetico(alvo, tx_mutacao=0.02)\n",
        "\n",
        "print(f\"\\n✅ Alvo atingido em {geracoes} gerações!\")\n",
        "for i in range(tam_pop):\n",
        "    print(f\"Indivíduo {i+1}: {pop_final[i]} | Aptidão: {apt_final[i]}\")\n"
      ],
      "metadata": {
        "colab": {
          "base_uri": "https://localhost:8080/"
        },
        "id": "GC3Y8n8ZzdHa",
        "outputId": "8ab85398-7faf-4fbb-f868-f53616bac1eb"
      },
      "execution_count": null,
      "outputs": [
        {
          "output_type": "stream",
          "name": "stdout",
          "text": [
            "\n",
            "✅ Alvo atingido em 14 gerações!\n",
            "Indivíduo 1: [1 1 1 0 1 1 1 1 0 1 1 1] | Aptidão: 11\n",
            "Indivíduo 2: [1 1 0 1 1 1 1 1 0 1 1 1] | Aptidão: 9\n",
            "Indivíduo 3: [1 1 0 0 1 1 1 1 0 1 1 1] | Aptidão: 10\n",
            "Indivíduo 4: [1 1 0 0 1 0 1 1 0 1 1 0] | Aptidão: 10\n",
            "Indivíduo 5: [1 1 0 0 1 1 1 1 0 1 1 1] | Aptidão: 10\n",
            "Indivíduo 6: [1 1 0 0 1 1 1 1 0 1 1 1] | Aptidão: 10\n",
            "Indivíduo 7: [1 1 0 0 1 1 1 1 0 1 1 1] | Aptidão: 10\n",
            "Indivíduo 8: [1 1 1 0 1 0 1 1 0 1 1 1] | Aptidão: 12\n"
          ]
        }
      ]
    },
    {
      "cell_type": "markdown",
      "source": [
        "## 📈 Etapa 3: Avaliação Estatística com Múltiplas Execuções\n",
        "\n",
        "Foi feita uma simulação do algoritmo genético executando-o 30 vezes com a mesma configuração de taxa de mutação e crossover. O objetivo desta etapa foi analisar, em média, quantas gerações foram necessárias para que a população evoluísse até atingir o alvo (aptidão máxima).\n",
        "\n",
        "Com os resultados, foi possível calcular a média, o desvio padrão e visualizar a consistência do algoritmo ao longo de múltiplas execuções. Esta análise permite comparar o impacto de diferentes parâmetros sobre o desempenho do algoritmo.\n"
      ],
      "metadata": {
        "id": "G3kyAG4kzu31"
      }
    },
    {
      "cell_type": "code",
      "source": [
        "# 🔁 Executar 30 vezes e armazenar os números de gerações\n",
        "resultados = []\n",
        "num_execucoes = 30\n",
        "\n",
        "for i in range(num_execucoes):\n",
        "    geracoes, _, _ = algoritmo_genetico(alvo, tx_mutacao=0.02)\n",
        "    resultados.append(geracoes)\n",
        "\n",
        "# 📊 Calcular estatísticas\n",
        "media_geracoes = np.mean(resultados)\n",
        "desvio_geracoes = np.std(resultados)\n",
        "\n",
        "print(f\"📌 Média de gerações até atingir o alvo: {media_geracoes:.2f}\")\n",
        "print(f\"📌 Desvio padrão: {desvio_geracoes:.2f}\")\n",
        "\n",
        "# Exibir todos os resultados\n",
        "print(\"\\n📋 Gerações por execução:\")\n",
        "print(resultados)\n"
      ],
      "metadata": {
        "colab": {
          "base_uri": "https://localhost:8080/"
        },
        "id": "4a7P56E6zvr3",
        "outputId": "09468954-88d2-4f3f-a719-1a935f40144c"
      },
      "execution_count": null,
      "outputs": [
        {
          "output_type": "stream",
          "name": "stdout",
          "text": [
            "📌 Média de gerações até atingir o alvo: 122.13\n",
            "📌 Desvio padrão: 96.33\n",
            "\n",
            "📋 Gerações por execução:\n",
            "[33, 78, 67, 70, 60, 168, 127, 23, 45, 236, 480, 68, 32, 117, 125, 162, 56, 105, 119, 319, 112, 253, 79, 106, 121, 49, 98, 43, 86, 227]\n"
          ]
        }
      ]
    },
    {
      "cell_type": "markdown",
      "source": [
        "Foi observada uma alta variabilidade no número de gerações, com valores variando entre **8** e **305**. Isso reforça a natureza estocástica dos algoritmos genéticos e destaca a importância da mutação e da seleção na convergência do processo evolutivo.\n",
        "\n",
        "Esse conjunto de dados servirá como referência de comparação para os próximos experimentos, onde serão testadas variantes com apenas crossover e apenas mutação.\n"
      ],
      "metadata": {
        "id": "wUnncK_HwJV8"
      }
    },
    {
      "cell_type": "markdown",
      "source": [
        "## 🧪 Etapa 4: Experimento B – Apenas Mutação\n",
        "\n",
        "Foi executado um novo experimento onde o algoritmo genético utilizou somente o operador de mutação, sem aplicar o crossover. A reprodução foi feita copiando diretamente os pais selecionados por roleta e aplicando mutação bit a bit.\n",
        "\n",
        "O objetivo foi analisar como o algoritmo se comporta em termos de convergência ao utilizar apenas a mutação como fonte de variação genética. As mesmas configurações do experimento anterior foram mantidas.\n"
      ],
      "metadata": {
        "id": "G5VBCR62wKT4"
      }
    },
    {
      "cell_type": "code",
      "source": [
        "def algoritmo_apenas_mutacao(alvo, tam_pop=8, tx_mutacao=0.02, max_geracoes=1000):\n",
        "    geracao = 0\n",
        "    populacao = gerar_populacao(tam_pop, len(alvo))\n",
        "    aptidoes = calcular_aptidao(populacao, alvo)\n",
        "\n",
        "    while np.max(aptidoes) < len(alvo) and geracao < max_geracoes:\n",
        "        nova_pop = []\n",
        "\n",
        "        while len(nova_pop) < tam_pop:\n",
        "            pai = selecao_roleta(populacao, aptidoes)\n",
        "            filho = mutar(pai, tx_mutacao)\n",
        "            nova_pop.append(filho)\n",
        "\n",
        "        populacao = np.array(nova_pop)\n",
        "        aptidoes = calcular_aptidao(populacao, alvo)\n",
        "        geracao += 1\n",
        "\n",
        "    return geracao, populacao, aptidoes\n",
        "\n",
        "# 🔁 Executar 30 vezes com apenas mutação\n",
        "resultados_mutacao = []\n",
        "\n",
        "for _ in range(30):\n",
        "    geracoes, _, _ = algoritmo_apenas_mutacao(alvo, tx_mutacao=0.02)\n",
        "    resultados_mutacao.append(geracoes)\n",
        "\n",
        "# 📊 Estatísticas\n",
        "media_mutacao = np.mean(resultados_mutacao)\n",
        "desvio_mutacao = np.std(resultados_mutacao)\n",
        "\n",
        "print(f\"📌 Média de gerações (somente mutação): {media_mutacao:.2f}\")\n",
        "print(f\"📌 Desvio padrão: {desvio_mutacao:.2f}\")\n",
        "print(\"📋 Gerações por execução:\", resultados_mutacao)\n"
      ],
      "metadata": {
        "colab": {
          "base_uri": "https://localhost:8080/"
        },
        "id": "5fsNrRBQwgsP",
        "outputId": "8bc80e53-558f-4460-ed85-4e5a0ef1daf4"
      },
      "execution_count": null,
      "outputs": [
        {
          "output_type": "stream",
          "name": "stdout",
          "text": [
            "📌 Média de gerações (somente mutação): 212.47\n",
            "📌 Desvio padrão: 208.93\n",
            "📋 Gerações por execução: [43, 314, 61, 63, 12, 1000, 296, 180, 108, 90, 92, 43, 36, 230, 152, 88, 461, 44, 4, 457, 190, 54, 174, 327, 478, 67, 152, 401, 472, 285]\n"
          ]
        }
      ]
    },
    {
      "cell_type": "markdown",
      "source": [
        "Foi observada uma alta variabilidade nos resultados, com várias execuções levando um número elevado de gerações para encontrar o alvo. Em especial, uma das execuções atingiu o limite de 1000 gerações, indicando que a mutação isolada pode ser menos eficiente em termos de convergência.\n",
        "\n",
        "Estes dados mostram que, embora a mutação seja essencial para a diversidade genética, sua atuação isolada pode não ser suficiente para uma evolução eficiente da população em direção à solução ótima. A ausência do crossover tende a limitar a combinação de boas soluções parciais entre os indivíduos.\n"
      ],
      "metadata": {
        "id": "GzY_L9e_xDAV"
      }
    },
    {
      "cell_type": "markdown",
      "source": [
        "## 🧪 Etapa 5: Experimento C – Apenas Crossover\n",
        "\n",
        "Foi realizado um experimento no qual o algoritmo genético utilizou apenas o operador de crossover, desabilitando completamente o uso de mutação. A reprodução entre pais foi feita normalmente utilizando crossover de um ponto, mas os filhos gerados não sofreram nenhuma mutação.\n",
        "\n",
        "Este teste visa analisar a eficiência do crossover como única forma de exploração do espaço de busca, comparando seu desempenho com os demais experimentos.\n"
      ],
      "metadata": {
        "id": "c_v5oIz8wjMG"
      }
    },
    {
      "cell_type": "code",
      "source": [
        "def algoritmo_apenas_crossover(alvo, tam_pop=8, max_geracoes=1000):\n",
        "    geracao = 0\n",
        "    populacao = gerar_populacao(tam_pop, len(alvo))\n",
        "    aptidoes = calcular_aptidao(populacao, alvo)\n",
        "\n",
        "    while np.max(aptidoes) < len(alvo) and geracao < max_geracoes:\n",
        "        nova_pop = []\n",
        "\n",
        "        while len(nova_pop) < tam_pop:\n",
        "            pai1 = selecao_roleta(populacao, aptidoes)\n",
        "            pai2 = selecao_roleta(populacao, aptidoes)\n",
        "\n",
        "            filho1, filho2 = crossover(pai1, pai2)\n",
        "\n",
        "            # Nenhuma mutação aplicada\n",
        "            nova_pop.append(filho1)\n",
        "            nova_pop.append(filho2)\n",
        "\n",
        "        populacao = np.array(nova_pop[:tam_pop])\n",
        "        aptidoes = calcular_aptidao(populacao, alvo)\n",
        "        geracao += 1\n",
        "\n",
        "    return geracao, populacao, aptidoes\n",
        "\n",
        "# 🔁 Executar 30 vezes com apenas crossover\n",
        "resultados_crossover = []\n",
        "\n",
        "for _ in range(30):\n",
        "    geracoes, _, _ = algoritmo_apenas_crossover(alvo)\n",
        "    resultados_crossover.append(geracoes)\n",
        "\n",
        "# 📊 Estatísticas\n",
        "media_crossover = np.mean(resultados_crossover)\n",
        "desvio_crossover = np.std(resultados_crossover)\n",
        "\n",
        "print(f\"📌 Média de gerações (somente crossover): {media_crossover:.2f}\")\n",
        "print(f\"📌 Desvio padrão: {desvio_crossover:.2f}\")\n",
        "print(\"📋 Gerações por execução:\", resultados_crossover)\n"
      ],
      "metadata": {
        "colab": {
          "base_uri": "https://localhost:8080/"
        },
        "id": "P87MPvctxKOs",
        "outputId": "69237638-e378-4f0f-a25e-efe0dd5f2b50"
      },
      "execution_count": null,
      "outputs": [
        {
          "output_type": "stream",
          "name": "stdout",
          "text": [
            "📌 Média de gerações (somente crossover): 1000.00\n",
            "📌 Desvio padrão: 0.00\n",
            "📋 Gerações por execução: [1000, 1000, 1000, 1000, 1000, 1000, 1000, 1000, 1000, 1000, 1000, 1000, 1000, 1000, 1000, 1000, 1000, 1000, 1000, 1000, 1000, 1000, 1000, 1000, 1000, 1000, 1000, 1000, 1000, 1000]\n"
          ]
        }
      ]
    },
    {
      "cell_type": "markdown",
      "source": [
        "Os resultados evidenciam que **o algoritmo não foi capaz de convergir** para a solução ótima em nenhuma das 30 execuções dentro do limite de 1000 gerações. Isso se deve à **ausência do operador de mutação**, que impede a introdução de variações genéticas necessárias para escapar de regiões de baixa diversidade.\n",
        "\n",
        "Mesmo com recombinação (crossover), os filhos gerados não apresentaram diversidade suficiente para explorar novas soluções, o que levou à estagnação precoce da população.\n",
        "\n",
        "Este experimento reforça a importância da mutação como elemento essencial para garantir diversidade e permitir que o algoritmo explore efetivamente o espaço de busca.\n"
      ],
      "metadata": {
        "id": "8HSZmtEfxXx5"
      }
    },
    {
      "cell_type": "markdown",
      "source": [
        "# 2. Maximização de Função"
      ],
      "metadata": {
        "id": "8gQ-mHkDzbOt"
      }
    },
    {
      "cell_type": "markdown",
      "source": [
        "## 📈 Etapa 1: Definição e Visualização da Função g(x)\n",
        "\n",
        "Foi definida a função \\( g(x) = 2^{-2\\left(\\frac{x - 0.1}{0.9}\\right)^2} \\cdot \\left(\\sin(5\\pi x)\\right)^6 \\), conforme especificado no enunciado do Exercício 2.\n",
        "\n",
        "A seguir, foi gerado o gráfico da função no intervalo \\([0, 1]\\) com o intuito de observar o comportamento da função e identificar visualmente os picos que representam seus máximos locais. Essa análise é fundamental para validar a dificuldade do problema de otimização, uma vez que o algoritmo deverá evitar convergência prematura em máximos locais.\n"
      ],
      "metadata": {
        "id": "8-t4Ed_tzczY"
      }
    },
    {
      "cell_type": "code",
      "source": [
        "import numpy as np\n",
        "import matplotlib.pyplot as plt\n",
        "\n",
        "# 🧠 Definição da função g(x)\n",
        "def g(x):\n",
        "    return 2**(-2*((x - 0.1)/0.9)**2) * (np.sin(5 * np.pi * x)**6)\n",
        "\n",
        "# 🧪 Geração dos valores de x e g(x)\n",
        "x_vals = np.linspace(0, 1, 1000)\n",
        "y_vals = g(x_vals)\n",
        "\n",
        "# 📈 Plot da função\n",
        "plt.figure(figsize=(10, 5))\n",
        "plt.plot(x_vals, y_vals, label='g(x)')\n",
        "plt.title(\"Visualização da Função g(x)\")\n",
        "plt.xlabel(\"x\")\n",
        "plt.ylabel(\"g(x)\")\n",
        "plt.grid(True)\n",
        "plt.legend()\n",
        "plt.show()\n"
      ],
      "metadata": {
        "colab": {
          "base_uri": "https://localhost:8080/",
          "height": 487
        },
        "id": "ssUCwW0OziDT",
        "outputId": "d548078d-18a9-43a4-c524-619eae99a5a7"
      },
      "execution_count": null,
      "outputs": [
        {
          "output_type": "display_data",
          "data": {
            "text/plain": [
              "<Figure size 1000x500 with 1 Axes>"
            ],
            "image/png": "[encoded data removed]"
          },
          "metadata": {}
        }
      ]
    },
    {
      "cell_type": "markdown",
      "source": [
        "## 💻 Etapa 2: Representação Binária com Precisão de 3 Casas Decimais\n",
        "\n",
        "Foi utilizada uma codificação binária com 10 bits para representar o domínio real \\( x \\in [0, 1] \\). Esse tamanho foi escolhido pois oferece \\( 2^{10} = 1024 \\) valores possíveis, o que permite uma precisão de aproximadamente \\( 0.000977 \\), atendendo ao requisito de pelo menos 3 casas decimais.\n",
        "\n",
        "A seguir, foram implementadas as funções de codificação e decodificação entre binário e valores reais.\n"
      ],
      "metadata": {
        "id": "nqWLNRywzy6h"
      }
    },
    {
      "cell_type": "code",
      "source": [
        "# Número de bits para representar x com 3 casas decimais\n",
        "n_bits = 10\n",
        "\n",
        "# Limites do intervalo de x\n",
        "x_min, x_max = 0.0, 1.0\n",
        "\n",
        "# 🔁 Função para converter binário para real\n",
        "def binario_para_real(bitstring):\n",
        "    inteiro = int(\"\".join(str(b) for b in bitstring), 2)\n",
        "    return x_min + (x_max - x_min) * inteiro / (2**n_bits - 1)\n",
        "\n",
        "# 🛠️ Função para gerar um indivíduo aleatório (bitstring)\n",
        "def gerar_individuo():\n",
        "    return np.random.randint(0, 2, n_bits)\n",
        "\n",
        "# 🔎 Exemplo de conversão\n",
        "individuo_exemplo = gerar_individuo()\n",
        "x_convertido = binario_para_real(individuo_exemplo)\n",
        "\n",
        "print(\"Bitstring:\", individuo_exemplo)\n",
        "print(\"Valor de x:\", round(x_convertido, 5))\n"
      ],
      "metadata": {
        "colab": {
          "base_uri": "https://localhost:8080/"
        },
        "id": "2LhoR8qjzzh3",
        "outputId": "6d5db4e7-e69a-46d1-e63f-e5486583fd14"
      },
      "execution_count": null,
      "outputs": [
        {
          "output_type": "stream",
          "name": "stdout",
          "text": [
            "Bitstring: [0 1 0 1 0 1 0 1 1 1]\n",
            "Valor de x: 0.33529\n"
          ]
        }
      ]
    },
    {
      "cell_type": "markdown",
      "source": [
        "## 🧬 Etapa 3: Algoritmo Genético para Maximizar g(x)\n",
        "\n",
        "Foi implementado o algoritmo genético completo para encontrar o valor máximo da função \\( g(x) \\) no intervalo \\([0, 1]\\). A representação utilizada foi binária com 10 bits, garantindo precisão superior a três casas decimais.\n",
        "\n",
        "O processo evolutivo envolve:\n",
        "- Inicialização de uma população de indivíduos aleatórios (bitstrings).\n",
        "- Avaliação da função \\( g(x) \\) com base na conversão binário → real.\n",
        "- Seleção por roleta proporcional à aptidão.\n",
        "- Crossover de um ponto entre pares de pais.\n",
        "- Mutação bit a bit com taxa fixa.\n",
        "- Registro da melhor e da média da população por geração.\n",
        "\n",
        "O algoritmo roda até atingir o número máximo de gerações ou convergir para valores estáveis.\n"
      ],
      "metadata": {
        "id": "DC4-7yjA0Grv"
      }
    },
    {
      "cell_type": "code",
      "source": [
        "# ⚙️ Parâmetros do AG\n",
        "tam_pop = 30\n",
        "tx_mutacao = 0.01\n",
        "n_geracoes = 100\n",
        "historico_melhor = []\n",
        "historico_media = []\n",
        "\n",
        "# 🧠 Avaliação da aptidão baseada em g(x)\n",
        "def avaliar_aptidao(populacao):\n",
        "    valores_x = np.array([binario_para_real(ind) for ind in populacao])\n",
        "    aptidoes = g(valores_x)\n",
        "    return aptidoes\n",
        "\n",
        "# 🔁 Seleção por roleta\n",
        "def selecao_roleta(populacao, aptidoes):\n",
        "    soma = np.sum(aptidoes)\n",
        "    if soma == 0:\n",
        "        return populacao[np.random.randint(len(populacao))]\n",
        "    probs = aptidoes / soma\n",
        "    return populacao[np.random.choice(len(populacao), p=probs)]\n",
        "\n",
        "# 🔀 Crossover de 1 ponto\n",
        "def crossover(pai1, pai2):\n",
        "    if len(pai1) != n_bits: return pai1, pai2\n",
        "    ponto = np.random.randint(1, n_bits - 1)\n",
        "    filho1 = np.concatenate((pai1[:ponto], pai2[ponto:]))\n",
        "    filho2 = np.concatenate((pai2[:ponto], pai1[ponto:]))\n",
        "    return filho1, filho2\n",
        "\n",
        "# 🎲 Mutação bit a bit\n",
        "def mutar(individuo, taxa):\n",
        "    return np.array([bit if np.random.rand() > taxa else 1 - bit for bit in individuo])\n",
        "\n",
        "# ▶️ Execução do AG\n",
        "populacao = [gerar_individuo() for _ in range(tam_pop)]\n",
        "\n",
        "for geracao in range(n_geracoes):\n",
        "    aptidoes = avaliar_aptidao(populacao)\n",
        "    nova_pop = []\n",
        "\n",
        "    # Registro de estatísticas\n",
        "    historico_melhor.append(np.max(aptidoes))\n",
        "    historico_media.append(np.mean(aptidoes))\n",
        "\n",
        "    while len(nova_pop) < tam_pop:\n",
        "        pai1 = selecao_roleta(populacao, aptidoes)\n",
        "        pai2 = selecao_roleta(populacao, aptidoes)\n",
        "        filho1, filho2 = crossover(pai1, pai2)\n",
        "        nova_pop.append(mutar(filho1, tx_mutacao))\n",
        "        nova_pop.append(mutar(filho2, tx_mutacao))\n",
        "\n",
        "    populacao = nova_pop[:tam_pop]\n",
        "\n",
        "# 📈 Plot da evolução\n",
        "plt.figure(figsize=(10, 5))\n",
        "plt.plot(historico_melhor, label=\"Melhor da geração\")\n",
        "plt.plot(historico_media, label=\"Média da geração\")\n",
        "plt.title(\"Evolução da Aptidão (g(x)) ao longo das gerações\")\n",
        "plt.xlabel(\"Geração\")\n",
        "plt.ylabel(\"g(x)\")\n",
        "plt.legend()\n",
        "plt.grid(True)\n",
        "plt.show()\n"
      ],
      "metadata": {
        "colab": {
          "base_uri": "https://localhost:8080/",
          "height": 487
        },
        "id": "CHkXV6Nb0HgL",
        "outputId": "648867b0-b30c-4490-abcc-5ae3c42444ad"
      },
      "execution_count": null,
      "outputs": [
        {
          "output_type": "display_data",
          "data": {
            "text/plain": [
              "<Figure size 1000x500 with 1 Axes>"
            ],
            "image/png": "[encoded data removed]"
          },
          "metadata": {}
        }
      ]
    },
    {
      "cell_type": "markdown",
      "source": [
        "## 📊 Etapa 4: Execuções Múltiplas e Análise Estatística\n",
        "\n",
        "Foi realizada a repetição do algoritmo genético por 30 execuções independentes, mantendo a mesma configuração de parâmetros:\n",
        "\n",
        "- Tamanho da população: 30\n",
        "- Número de gerações: 100\n",
        "- Taxa de mutação: 1\\%\n",
        "- Crossover de um ponto\n",
        "- Seleção por roleta\n",
        "\n",
        "Para cada execução, foi registrado o maior valor de \\( g(x) \\) encontrado após as 100 gerações. Com isso, foi possível calcular a média, o desvio padrão e analisar a robustez do algoritmo frente à sua natureza estocástica.\n"
      ],
      "metadata": {
        "id": "j5090Wjk0R0H"
      }
    },
    {
      "cell_type": "code",
      "source": [
        "# 🚀 Etapa 4: Repetição do AG para análise estatística\n",
        "melhores_finais = []\n",
        "\n",
        "for _ in range(30):\n",
        "    populacao = [gerar_individuo() for _ in range(tam_pop)]\n",
        "    for _ in range(n_geracoes):\n",
        "        aptidoes = avaliar_aptidao(populacao)\n",
        "        nova_pop = []\n",
        "        while len(nova_pop) < tam_pop:\n",
        "            pai1 = selecao_roleta(populacao, aptidoes)\n",
        "            pai2 = selecao_roleta(populacao, aptidoes)\n",
        "            filho1, filho2 = crossover(pai1, pai2)\n",
        "            nova_pop.append(mutar(filho1, tx_mutacao))\n",
        "            nova_pop.append(mutar(filho2, tx_mutacao))\n",
        "        populacao = nova_pop[:tam_pop]\n",
        "    melhores_finais.append(np.max(avaliar_aptidao(populacao)))\n",
        "\n",
        "# 📈 Estatísticas\n",
        "media_final = np.mean(melhores_finais)\n",
        "desvio_final = np.std(melhores_finais)\n",
        "\n",
        "print(f\"📌 Média do melhor g(x) final: {media_final:.5f}\")\n",
        "print(f\"📌 Desvio padrão: {desvio_final:.5f}\")\n",
        "print(\"📋 Melhores g(x) encontrados:\", melhores_finais)\n"
      ],
      "metadata": {
        "colab": {
          "base_uri": "https://localhost:8080/"
        },
        "id": "ROrq7YQ_0SXJ",
        "outputId": "8df64cd1-d5ad-423c-8ecc-49be34e5f292"
      },
      "execution_count": null,
      "outputs": [
        {
          "output_type": "stream",
          "name": "stdout",
          "text": [
            "📌 Média do melhor g(x) final: 0.93987\n",
            "📌 Desvio padrão: 0.07264\n",
            "📋 Melhores g(x) encontrados: [np.float64(0.9988025206223748), np.float64(0.9999361967343531), np.float64(0.9338579255524821), np.float64(0.7596314282825114), np.float64(0.9923060386458379), np.float64(0.9323444384994476), np.float64(0.8189640871709327), np.float64(0.9628487996165822), np.float64(0.9999361967343531), np.float64(0.9337626546939399), np.float64(0.8189640871709327), np.float64(0.9999361967343531), np.float64(0.9996526704676634), np.float64(0.9337626546939399), np.float64(0.7607704599914714), np.float64(0.9999361967343531), np.float64(0.9996526704676634), np.float64(0.9326295971800832), np.float64(0.9979530138753785), np.float64(0.9948436509350399), np.float64(0.9338579255524821), np.float64(0.9337626546939399), np.float64(0.9326295971800832), np.float64(0.9628487996165822), np.float64(0.8025568558369875), np.float64(0.9996526704676634), np.float64(0.9948436509350399), np.float64(0.9338579255524821), np.float64(0.9337626546939399), np.float64(0.9979530138753785)]\n"
          ]
        }
      ]
    },
    {
      "cell_type": "markdown",
      "source": [
        "## 🧗 Etapa Comparativa: Subida da Colina (Hill Climbing)\n",
        "\n",
        "Foi implementado o algoritmo de Subida da Colina (Hill Climbing) com representação binária de 10 bits. A cada iteração, a solução corrente sofre uma pequena perturbação (inversão de um único bit), e apenas as soluções que melhoram a aptidão atual são aceitas.\n",
        "\n",
        "O processo para ao atingir o número máximo de iterações ou quando nenhuma vizinhança apresenta melhoria.\n",
        "\n",
        "O desempenho será comparado ao algoritmo genético com base no melhor valor de \\( g(x) \\) obtido e no tempo de execução.\n"
      ],
      "metadata": {
        "id": "CPDel_UK1G31"
      }
    },
    {
      "cell_type": "code",
      "source": [
        "import time\n",
        "\n",
        "# ⛰️ Função Hill Climbing\n",
        "def hill_climbing(max_iter=1000):\n",
        "    atual = gerar_individuo()\n",
        "    x_atual = binario_para_real(atual)\n",
        "    g_atual = g(x_atual)\n",
        "\n",
        "    start = time.time()\n",
        "\n",
        "    for _ in range(max_iter):\n",
        "        melhorou = False\n",
        "        for i in range(n_bits):\n",
        "            vizinho = atual.copy()\n",
        "            vizinho[i] = 1 - vizinho[i]  # inverte o bit i\n",
        "            x_viz = binario_para_real(vizinho)\n",
        "            g_viz = g(x_viz)\n",
        "\n",
        "            if g_viz > g_atual:\n",
        "                atual, x_atual, g_atual = vizinho, x_viz, g_viz\n",
        "                melhorou = True\n",
        "                break  # aceita a primeira melhoria\n",
        "\n",
        "        if not melhorou:\n",
        "            break  # parada local\n",
        "\n",
        "    fim = time.time()\n",
        "    tempo = fim - start\n",
        "    return g_atual, x_atual, tempo\n",
        "\n",
        "# ▶️ Testar 30 vezes\n",
        "resultados_hc = [hill_climbing() for _ in range(30)]\n",
        "valores_hc = [r[0] for r in resultados_hc]\n",
        "tempos_hc = [r[2] for r in resultados_hc]\n",
        "\n",
        "media_hc = np.mean(valores_hc)\n",
        "desvio_hc = np.std(valores_hc)\n",
        "tempo_medio_hc = np.mean(tempos_hc)\n",
        "\n",
        "print(f\"📌 Média g(x): {media_hc:.5f}\")\n",
        "print(f\"📌 Desvio padrão: {desvio_hc:.5f}\")\n",
        "print(f\"⏱️ Tempo médio de execução: {tempo_medio_hc:.5f} segundos\")\n"
      ],
      "metadata": {
        "colab": {
          "base_uri": "https://localhost:8080/"
        },
        "id": "SQagHw7O1HdL",
        "outputId": "4acb918d-439e-4c1d-9693-558a5b559c5c"
      },
      "execution_count": null,
      "outputs": [
        {
          "output_type": "stream",
          "name": "stdout",
          "text": [
            "📌 Média g(x): 0.62375\n",
            "📌 Desvio padrão: 0.21600\n",
            "⏱️ Tempo médio de execução: 0.00022 segundos\n"
          ]
        }
      ]
    },
    {
      "cell_type": "markdown",
      "source": [
        "## 🔥 Etapa Comparativa: Recozimento Simulado (Simulated Annealing)\n",
        "\n",
        "Foi implementado o algoritmo de Recozimento Simulado com codificação binária. A cada iteração, uma solução vizinha (com um bit invertido) é avaliada. Se a solução for melhor, é aceita. Caso contrário, pode ser aceita com uma probabilidade que depende da diferença de aptidão e da temperatura atual, que decresce ao longo do tempo.\n",
        "\n",
        "A estratégia de resfriamento utilizada foi exponencial: \\( T_{k+1} = \\alpha \\cdot T_k \\)\n"
      ],
      "metadata": {
        "id": "a2pcaVHQ1dVq"
      }
    },
    {
      "cell_type": "code",
      "source": [
        "def simulated_annealing(t0=1.0, alpha=0.95, t_min=1e-5, n_iter_por_temp=100):\n",
        "    atual = gerar_individuo()\n",
        "    x_atual = binario_para_real(atual)\n",
        "    g_atual = g(x_atual)\n",
        "\n",
        "    melhor = atual.copy()\n",
        "    g_melhor = g_atual\n",
        "\n",
        "    T = t0\n",
        "    start = time.time()\n",
        "\n",
        "    while T > t_min:\n",
        "        for _ in range(n_iter_por_temp):\n",
        "            vizinho = atual.copy()\n",
        "            i = np.random.randint(n_bits)\n",
        "            vizinho[i] = 1 - vizinho[i]\n",
        "            x_viz = binario_para_real(vizinho)\n",
        "            g_viz = g(x_viz)\n",
        "\n",
        "            delta = g_viz - g_atual\n",
        "            if delta > 0 or np.random.rand() < np.exp(delta / T):\n",
        "                atual = vizinho\n",
        "                g_atual = g_viz\n",
        "                if g_viz > g_melhor:\n",
        "                    melhor = vizinho\n",
        "                    g_melhor = g_viz\n",
        "        T *= alpha\n",
        "\n",
        "    fim = time.time()\n",
        "    tempo = fim - start\n",
        "    return g_melhor, binario_para_real(melhor), tempo\n",
        "\n",
        "# ▶️ Testar 30 vezes\n",
        "resultados_sa = [simulated_annealing() for _ in range(30)]\n",
        "valores_sa = [r[0] for r in resultados_sa]\n",
        "tempos_sa = [r[2] for r in resultados_sa]\n",
        "\n",
        "media_sa = np.mean(valores_sa)\n",
        "desvio_sa = np.std(valores_sa)\n",
        "tempo_medio_sa = np.mean(tempos_sa)\n",
        "\n",
        "print(f\"📌 Média g(x): {media_sa:.5f}\")\n",
        "print(f\"📌 Desvio padrão: {desvio_sa:.5f}\")\n",
        "print(f\"⏱️ Tempo médio de execução: {tempo_medio_sa:.5f} segundos\")\n"
      ],
      "metadata": {
        "colab": {
          "base_uri": "https://localhost:8080/"
        },
        "id": "NxGvxI-W1d72",
        "outputId": "5f4392ab-a3e4-4912-cad9-6a76cb74cc48"
      },
      "execution_count": null,
      "outputs": [
        {
          "output_type": "stream",
          "name": "stdout",
          "text": [
            "📌 Média g(x): 0.99994\n",
            "📌 Desvio padrão: 0.00000\n",
            "⏱️ Tempo médio de execução: 0.35813 segundos\n"
          ]
        }
      ]
    },
    {
      "cell_type": "markdown",
      "source": [
        "## 🎯 Etapa Comparativa: Seleção por Torneio\n",
        "\n",
        "Foi implementado o método de seleção por torneio, onde dois indivíduos são escolhidos aleatoriamente e o com maior aptidão é selecionado como pai. Esse processo é repetido para gerar os pares para crossover.\n",
        "\n",
        "A seguir, a função foi utilizada dentro do algoritmo genético para avaliação comparativa com os métodos de roleta e SUS.\n"
      ],
      "metadata": {
        "id": "YtRJqYCP1xGc"
      }
    },
    {
      "cell_type": "code",
      "source": [
        "# Seleção por Torneio (k=2)\n",
        "def selecao_torneio(populacao, aptidoes, k=2):\n",
        "    selecionados = np.random.choice(len(populacao), k)\n",
        "    melhor_idx = selecionados[np.argmax(aptidoes[selecionados])]\n",
        "    return populacao[melhor_idx]\n",
        "\n",
        "# AG com seleção por torneio\n",
        "def ag_com_selecao(selecao_fn, max_geracoes=100, tx_mut=0.01):\n",
        "    pop = [gerar_individuo() for _ in range(tam_pop)]\n",
        "    for _ in range(max_geracoes):\n",
        "        apt = avaliar_aptidao(pop)\n",
        "        nova_pop = []\n",
        "        while len(nova_pop) < tam_pop:\n",
        "            pai1 = selecao_fn(pop, apt)\n",
        "            pai2 = selecao_fn(pop, apt)\n",
        "            filho1, filho2 = crossover(pai1, pai2)\n",
        "            nova_pop.append(mutar(filho1, tx_mut))\n",
        "            nova_pop.append(mutar(filho2, tx_mut))\n",
        "        pop = nova_pop[:tam_pop]\n",
        "    return np.max(avaliar_aptidao(pop))\n",
        "\n",
        "# Executar 30 vezes com Torneio\n",
        "start = time.time()\n",
        "result_torneio = [ag_com_selecao(selecao_torneio) for _ in range(30)]\n",
        "tempo_torneio = time.time() - start\n",
        "\n",
        "media_torneio = np.mean(result_torneio)\n",
        "desvio_torneio = np.std(result_torneio)\n",
        "print(f\"📌 Torneio: Média g(x): {media_torneio:.5f} | Desvio: {desvio_torneio:.5f} | Tempo médio: {tempo_torneio / 30:.5f}s\")\n"
      ],
      "metadata": {
        "colab": {
          "base_uri": "https://localhost:8080/"
        },
        "id": "n5NzzHUv1xpC",
        "outputId": "b008c7ef-ccc9-4218-b587-064d92924d7f"
      },
      "execution_count": null,
      "outputs": [
        {
          "output_type": "stream",
          "name": "stdout",
          "text": [
            "📌 Torneio: Média g(x): 0.92967 | Desvio: 0.12903 | Tempo médio: 0.15228s\n"
          ]
        }
      ]
    },
    {
      "cell_type": "markdown",
      "source": [
        "## 🎯 Etapa Comparativa: Amostragem Universal Estocástica (SUS)\n",
        "\n",
        "Foi implementado o método SUS, uma variação mais estável da seleção por roleta. Nele, ao invés de sortear um indivíduo por vez com base na aptidão, várias cópias são distribuídas proporcionalmente de forma equidistante, com base em um ponto inicial aleatório.\n",
        "\n",
        "Esse método tende a ter menor variância e melhor cobertura populacional, evitando perdas prematuras de diversidade.\n"
      ],
      "metadata": {
        "id": "cmJd9vLA15Ru"
      }
    },
    {
      "cell_type": "code",
      "source": [
        "# SUS - Stochastic Universal Sampling\n",
        "def selecao_sus(populacao, aptidoes):\n",
        "    n = len(populacao)\n",
        "    soma_apt = np.sum(aptidoes)\n",
        "    if soma_apt == 0:\n",
        "        return populacao[np.random.randint(n)]\n",
        "\n",
        "    probs = aptidoes / soma_apt\n",
        "    cumulativa = np.cumsum(probs)\n",
        "\n",
        "    pointers = np.linspace(np.random.uniform(0, 1/n), 1, n)\n",
        "    indices = []\n",
        "    i, j = 0, 0\n",
        "\n",
        "    while i < n and j < len(cumulativa):\n",
        "        if pointers[i] < cumulativa[j]:\n",
        "            indices.append(j)\n",
        "            i += 1\n",
        "        else:\n",
        "            j += 1\n",
        "\n",
        "    return populacao[np.random.choice(indices)]\n",
        "\n",
        "# AG com seleção SUS\n",
        "def ag_com_sus(max_geracoes=100, tx_mut=0.01):\n",
        "    pop = [gerar_individuo() for _ in range(tam_pop)]\n",
        "    for _ in range(max_geracoes):\n",
        "        apt = avaliar_aptidao(pop)\n",
        "        nova_pop = []\n",
        "        while len(nova_pop) < tam_pop:\n",
        "            pai1 = selecao_sus(pop, apt)\n",
        "            pai2 = selecao_sus(pop, apt)\n",
        "            filho1, filho2 = crossover(pai1, pai2)\n",
        "            nova_pop.append(mutar(filho1, tx_mut))\n",
        "            nova_pop.append(mutar(filho2, tx_mut))\n",
        "        pop = nova_pop[:tam_pop]\n",
        "    return np.max(avaliar_aptidao(pop))\n",
        "\n",
        "# Executar 30 vezes com SUS\n",
        "start = time.time()\n",
        "result_sus = [ag_com_sus() for _ in range(30)]\n",
        "tempo_sus = time.time() - start\n",
        "\n",
        "media_sus = np.mean(result_sus)\n",
        "desvio_sus = np.std(result_sus)\n",
        "print(f\"📌 SUS: Média g(x): {media_sus:.5f} | Desvio: {desvio_sus:.5f} | Tempo médio: {tempo_sus / 30:.5f}s\")\n"
      ],
      "metadata": {
        "colab": {
          "base_uri": "https://localhost:8080/"
        },
        "id": "dJlX9yuF15xF",
        "outputId": "306a6b05-a2c9-44b5-c2f1-f1ea6c61baea"
      },
      "execution_count": null,
      "outputs": [
        {
          "output_type": "stream",
          "name": "stdout",
          "text": [
            "📌 SUS: Média g(x): 0.93396 | Desvio: 0.07391 | Tempo médio: 0.51441s\n"
          ]
        }
      ]
    },
    {
      "cell_type": "markdown",
      "source": [
        "# 3. Minimização de Função (Rosenbrock)"
      ],
      "metadata": {
        "id": "-n7sgOqIjyCE"
      }
    },
    {
      "cell_type": "markdown",
      "source": [
        "# **3. Minimização da Função de Rosenbrock 🧮**\n",
        "\n",
        "## 🎯 Objetivo\n",
        "Aplicar um **Algoritmo Genético** para minimizar a função de Rosenbrock:\n",
        "\\[\n",
        "f(x, y) = (1 - x)^2 + 100(y - x^2)^2, \\text{ com } x, y \\in [-10, 10]\n",
        "\\]\n",
        "\n",
        "---\n",
        "\n",
        "## 📦 Etapa 1: Representação dos Individuos e Função de Avaliação\n",
        "\n",
        "Utilizamos codificação binária com precisão suficiente para representar valores reais no intervalo [-10, 10].\n",
        "\n"
      ],
      "metadata": {
        "id": "HqrPUyh8j7A1"
      }
    },
    {
      "cell_type": "code",
      "source": [
        "import numpy as np\n",
        "import matplotlib.pyplot as plt\n",
        "\n",
        "n_bits = 20  # 10 bits para x e 10 para y\n",
        "intervalo = (-10, 10)\n",
        "\n",
        "def binario_para_real(bits):\n",
        "    parte_x = bits[:10]\n",
        "    parte_y = bits[10:]\n",
        "    inteiro_x = int(\"\".join(map(str, parte_x)), 2)\n",
        "    inteiro_y = int(\"\".join(map(str, parte_y)), 2)\n",
        "    x = intervalo[0] + (intervalo[1] - intervalo[0]) * inteiro_x / (2**10 - 1)\n",
        "    y = intervalo[0] + (intervalo[1] - intervalo[0]) * inteiro_y / (2**10 - 1)\n",
        "    return x, y\n",
        "\n",
        "def func_objetivo(x, y):\n",
        "    return (1 - x)**2 + 100 * (y - x**2)**2\n",
        "\n",
        "def avaliar_aptidao(populacao):\n",
        "    return np.array([-func_objetivo(*binario_para_real(ind)) for ind in populacao])"
      ],
      "metadata": {
        "id": "OW3YaPxblxpe"
      },
      "execution_count": null,
      "outputs": []
    },
    {
      "cell_type": "markdown",
      "source": [
        "## 🧬 Etapa 2: Algoritmo Genético com Elitismo\n"
      ],
      "metadata": {
        "id": "P-aZADHUl0_A"
      }
    },
    {
      "cell_type": "code",
      "source": [
        "def gerar_individuo():\n",
        "    return np.random.randint(0, 2, n_bits)\n",
        "\n",
        "def crossover(pai1, pai2):\n",
        "    ponto = np.random.randint(1, n_bits - 1)\n",
        "    return np.concatenate((pai1[:ponto], pai2[ponto:])), np.concatenate((pai2[:ponto], pai1[ponto:]))\n",
        "\n",
        "def mutar(ind, taxa):\n",
        "    return np.array([bit if np.random.rand() > taxa else 1 - bit for bit in ind])\n",
        "\n",
        "def selecao_roleta(populacao, aptidoes):\n",
        "    soma = np.sum(aptidoes)\n",
        "    if soma == 0: return populacao[np.random.randint(len(populacao))]\n",
        "    probs = aptidoes / soma\n",
        "    return populacao[np.random.choice(len(populacao), p=probs)]\n",
        "\n",
        "def algoritmo_genetico(tam_pop=30, geracoes=100, tx_mut=0.01, elitismo=True):\n",
        "    pop = [gerar_individuo() for _ in range(tam_pop)]\n",
        "    historico_min = []\n",
        "    historico_media = []\n",
        "\n",
        "    for g in range(geracoes):\n",
        "        apt = avaliar_aptidao(pop)\n",
        "        nova_pop = []\n",
        "        if elitismo:\n",
        "            elite = pop[np.argmax(apt)]\n",
        "        for _ in range(tam_pop // 2):\n",
        "            pai1 = selecao_roleta(pop, apt)\n",
        "            pai2 = selecao_roleta(pop, apt)\n",
        "            f1, f2 = crossover(pai1, pai2)\n",
        "            nova_pop.append(mutar(f1, tx_mut))\n",
        "            nova_pop.append(mutar(f2, tx_mut))\n",
        "        if elitismo:\n",
        "            nova_pop[np.argmin(avaliar_aptidao(nova_pop))] = elite\n",
        "        pop = nova_pop\n",
        "        historico_min.append(-np.max(avaliar_aptidao(pop)))\n",
        "        historico_media.append(-np.mean(avaliar_aptidao(pop)))\n",
        "\n",
        "    return historico_min, historico_media, pop\n"
      ],
      "metadata": {
        "id": "U8RWpc0_j6pr"
      },
      "execution_count": null,
      "outputs": []
    },
    {
      "cell_type": "markdown",
      "source": [
        "## 📊 Etapa 3: Execução e Visualização"
      ],
      "metadata": {
        "id": "uG3pfD2fl4u_"
      }
    },
    {
      "cell_type": "code",
      "source": [
        "minimos, medias, final_pop = algoritmo_genetico()\n",
        "\n",
        "plt.figure(figsize=(10, 5))\n",
        "plt.plot(minimos, label='Melhor da geração')\n",
        "plt.plot(medias, label='Média da geração')\n",
        "plt.title('Evolução da Função de Rosenbrock')\n",
        "plt.xlabel('Geração')\n",
        "plt.ylabel('f(x, y)')\n",
        "plt.legend()\n",
        "plt.grid(True)\n",
        "plt.show()\n",
        "\n",
        "melhor_ind = final_pop[np.argmax(avaliar_aptidao(final_pop))]\n",
        "x_best, y_best = binario_para_real(melhor_ind)\n",
        "print(f\"🔍 Melhor solução encontrada: f({x_best:.4f}, {y_best:.4f}) = {func_objetivo(x_best, y_best):.6f}\")\n"
      ],
      "metadata": {
        "colab": {
          "base_uri": "https://localhost:8080/",
          "height": 504
        },
        "id": "3sgNkCKZl5aa",
        "outputId": "af5cc30e-7d78-4553-8043-2b7deaff48ca"
      },
      "execution_count": null,
      "outputs": [
        {
          "output_type": "display_data",
          "data": {
            "text/plain": [
              "<Figure size 1000x500 with 1 Axes>"
            ],
            "image/png": "[encoded data removed]"
          },
          "metadata": {}
        },
        {
          "output_type": "stream",
          "name": "stdout",
          "text": [
            "🔍 Melhor solução encontrada: f(0.0293, 0.1075) = 2.079992\n"
          ]
        }
      ]
    },
    {
      "cell_type": "markdown",
      "source": [
        "## 📊 Interpretação dos Resultados – Minimização da Função de Rosenbrock\n",
        "\n",
        "O gráfico apresentado ilustra a evolução da aptidão da população ao longo de 100 gerações, durante a execução do Algoritmo Genético para a minimização da função de Rosenbrock. A linha azul representa o valor da melhor aptidão (menor valor de \\( f(x, y) \\)) em cada geração, enquanto a linha laranja corresponde à média da aptidão da população.\n",
        "\n",
        "### 📉 Análise da Curva de Melhor Aptidão\n",
        "\n",
        "Observa-se que a linha azul permanece praticamente constante ao longo de todas as gerações. Isso indica que o melhor indivíduo encontrado inicialmente manteve sua posição como solução dominante, sem melhorias significativas posteriores. Este comportamento sugere que o algoritmo pode ter **convergido prematuramente** para um mínimo local ou que houve **baixa diversidade genética** na população, impedindo a exploração eficaz do espaço de busca.\n",
        "\n",
        "### 📈 Análise da Curva Média\n",
        "\n",
        "A linha laranja (média das aptidões) mostra uma tendência geral de crescimento nas primeiras gerações, refletindo o processo de adaptação da população. No entanto, a média estabiliza em um patamar elevado, o que reforça a hipótese de **estagnação evolutiva**. A população tende a se tornar homogênea, concentrando-se em torno de soluções não ideais.\n",
        "\n",
        "### 🧪 Possíveis Causas\n",
        "\n",
        "- **Taxa de mutação insuficiente:** pode ter limitado a introdução de novos genes e dificultado a exploração do espaço.\n",
        "- **Codificação inadequada ou baixa precisão:** a representação binária com poucos bits pode ter dificultado a aproximação do mínimo global da função.\n",
        "- **Parâmetros de seleção e crossover pouco eficazes:** podem não ter sido capazes de direcionar a população para regiões promissoras do espaço de busca.\n",
        "\n",
        "### ✅ Recomendações\n",
        "\n",
        "- **Aumentar a taxa de mutação** ou adotar estratégias adaptativas.\n",
        "- **Incluir elitismo** para preservar soluções de alta qualidade.\n",
        "- **Testar outras formas de seleção**, como torneio ou SUS.\n",
        "- **Avaliar representações alternativas**, como codificação em ponto flutuante, para maior precisão.\n",
        "\n",
        "Em resumo, embora o algoritmo tenha apresentado evolução inicial, os resultados indicam uma limitação em alcançar o mínimo global da função de Rosenbrock, o que motiva ajustes nos parâmetros e estratégias do AG.\n"
      ],
      "metadata": {
        "id": "tTzybkytn6Yt"
      }
    }
  ]
}